{
 "cells": [
  {
   "cell_type": "markdown",
   "metadata": {},
   "source": [
    "# Acondicionamiento de los datos del cuestionario ampliado de  la encuesta de poblacion y vivienda 2020 para analizar propietarios de vivienda particular"
   ]
  },
  {
   "cell_type": "markdown",
   "metadata": {},
   "source": [
    "# Importando librerias"
   ]
  },
  {
   "cell_type": "code",
   "execution_count": 1,
   "metadata": {},
   "outputs": [],
   "source": [
    "import pandas as pd\n",
    "import swifter\n",
    "from tqdm import tqdm\n"
   ]
  },
  {
   "cell_type": "markdown",
   "metadata": {},
   "source": [
    "## Carga de la base de datos del cuestionario por persona y vivienda "
   ]
  },
  {
   "cell_type": "code",
   "execution_count": 2,
   "metadata": {},
   "outputs": [],
   "source": [
    "df_inegi2020=pd.read_csv('Personas00.CSV',  encoding='latin-1')"
   ]
  },
  {
   "cell_type": "code",
   "execution_count": 3,
   "metadata": {},
   "outputs": [],
   "source": [
    "df_inegi2020_vivienda=pd.read_csv('Viviendas00.CSV',encoding='latin-1')"
   ]
  },
  {
   "cell_type": "code",
   "execution_count": 4,
   "metadata": {},
   "outputs": [
    {
     "data": {
      "text/plain": [
       "Index(['ENT', 'MUN', 'LOC50K', 'ID_VIV', 'ID_PERSONA', 'COBERTURA', 'ESTRATO',\n",
       "       'UPM', 'FACTOR', 'CLAVIVP', 'NUMPER', 'SEXO', 'EDAD', 'PARENTESCO',\n",
       "       'IDENT_MADRE', 'IDENT_PADRE', 'ENT_PAIS_NAC', 'NACIONALIDAD',\n",
       "       'SERSALUD', 'AFRODES', 'REGIS_NAC', 'DHSERSAL1', 'DHSERSAL2',\n",
       "       'RELIGION', 'DIS_VER', 'DIS_OIR', 'DIS_CAMINAR', 'DIS_RECORDAR',\n",
       "       'DIS_BANARSE', 'DIS_HABLAR', 'DIS_MENTAL', 'CAU_VER', 'CAU_OIR',\n",
       "       'CAU_CAMINAR', 'CAU_RECORDAR', 'CAU_BANARSE', 'CAU_HABLAR',\n",
       "       'CAU_MENTAL', 'HLENGUA', 'QDIALECT_INALI', 'HESPANOL', 'ELENGUA',\n",
       "       'PERTE_INDIGENA', 'ASISTEN', 'MUN_ASI', 'ENT_PAIS_ASI',\n",
       "       'TIE_TRASLADO_ESCU', 'MED_TRASLADO_ESC1', 'MED_TRASLADO_ESC2',\n",
       "       'MED_TRASLADO_ESC3', 'NIVACAD', 'ESCOLARI', 'NOMCAR_C', 'ALFABET',\n",
       "       'ESCOACUM', 'ENT_PAIS_RES_5A', 'MUN_RES_5A', 'CAUSA_MIG', 'CAUSA_MIG_V',\n",
       "       'SITUA_CONYUGAL', 'IDENT_PAREJA', 'CONACT', 'OCUPACION_C', 'SITTRA',\n",
       "       'AGUINALDO', 'VACACIONES', 'SERVICIO_MEDICO', 'UTILIDADES',\n",
       "       'INCAP_SUELDO', 'SAR_AFORE', 'CREDITO_VIVIENDA', 'INGTRMEN', 'HORTRA',\n",
       "       'ACTIVIDADES_C', 'MUN_TRAB', 'ENT_PAIS_TRAB', 'TIE_TRASLADO_TRAB',\n",
       "       'MED_TRASLADO_TRAB1', 'MED_TRASLADO_TRAB2', 'MED_TRASLADO_TRAB3',\n",
       "       'HIJOS_NAC_VIVOS', 'HIJOS_FALLECIDOS', 'HIJOS_SOBREVIV', 'FECHA_NAC_M',\n",
       "       'FECHA_NAC_A', 'SOBREVIVENCIA', 'IDENT_HIJO', 'EDAD_MORIR_D',\n",
       "       'EDAD_MORIR_M', 'EDAD_MORIR_A', 'EDAD_MORIR_TD', 'TAMLOC'],\n",
       "      dtype='object')"
      ]
     },
     "execution_count": 4,
     "metadata": {},
     "output_type": "execute_result"
    }
   ],
   "source": [
    "df_inegi2020.columns"
   ]
  },
  {
   "cell_type": "code",
   "execution_count": 5,
   "metadata": {},
   "outputs": [
    {
     "data": {
      "text/plain": [
       "Index(['ENT', 'MUN', 'LOC50K', 'ID_VIV', 'COBERTURA', 'ESTRATO', 'UPM',\n",
       "       'FACTOR', 'CLAVIVP', 'PAREDES', 'TECHOS', 'PISOS', 'COCINA', 'CUADORM',\n",
       "       'TOTCUART', 'LUG_COC', 'COMBUSTIBLE', 'ESTUFA', 'ELECTRICIDAD', 'FOCOS',\n",
       "       'FOCOS_AHORRA', 'AGUA_ENTUBADA', 'ABA_AGUA_ENTU', 'ABA_AGUA_NO_ENTU',\n",
       "       'TINACO', 'CISTERNA', 'BOMBA_AGUA', 'REGADERA', 'BOILER',\n",
       "       'CALENTADOR_SOLAR', 'AIRE_ACON', 'PANEL_SOLAR', 'SERSAN', 'CONAGUA',\n",
       "       'USOEXC', 'DRENAJE', 'SEPARACION1', 'SEPARACION2', 'SEPARACION3',\n",
       "       'SEPARACION4', 'DESTINO_BAS', 'REFRIGERADOR', 'LAVADORA', 'HORNO',\n",
       "       'AUTOPROP', 'MOTOCICLETA', 'BICICLETA', 'RADIO', 'TELEVISOR',\n",
       "       'COMPUTADORA', 'TELEFONO', 'CELULAR', 'INTERNET', 'SERV_TV_PAGA',\n",
       "       'SERV_PEL_PAGA', 'CON_VJUEGOS', 'TENENCIA', 'ESCRITURAS', 'FORMA_ADQUI',\n",
       "       'FINANCIAMIENTO1', 'FINANCIAMIENTO2', 'FINANCIAMIENTO3', 'DEUDA',\n",
       "       'NUMPERS', 'DUE1_NUM', 'DUE2_NUM', 'MCONMIG', 'MNUMPERS',\n",
       "       'INGR_PEROTROPAIS', 'INGR_PERDENTPAIS', 'INGR_AYUGOB', 'INGR_JUBPEN',\n",
       "       'ALIMENTACION', 'ALIM_ADL1', 'ALIM_ADL2', 'ING_ALIM_ADL1',\n",
       "       'ING_ALIM_ADL2', 'ING_ALIM_ADL3', 'TIPOHOG', 'INGTRHOG', 'JEFE_SEXO',\n",
       "       'JEFE_EDAD', 'TAMLOC'],\n",
       "      dtype='object')"
      ]
     },
     "execution_count": 5,
     "metadata": {},
     "output_type": "execute_result"
    }
   ],
   "source": [
    "df_inegi2020_vivienda.columns"
   ]
  },
  {
   "cell_type": "code",
   "execution_count": 6,
   "metadata": {},
   "outputs": [
    {
     "data": {
      "text/html": [
       "<div>\n",
       "<style scoped>\n",
       "    .dataframe tbody tr th:only-of-type {\n",
       "        vertical-align: middle;\n",
       "    }\n",
       "\n",
       "    .dataframe tbody tr th {\n",
       "        vertical-align: top;\n",
       "    }\n",
       "\n",
       "    .dataframe thead th {\n",
       "        text-align: right;\n",
       "    }\n",
       "</style>\n",
       "<table border=\"1\" class=\"dataframe\">\n",
       "  <thead>\n",
       "    <tr style=\"text-align: right;\">\n",
       "      <th></th>\n",
       "      <th>ENT</th>\n",
       "      <th>MUN</th>\n",
       "      <th>LOC50K</th>\n",
       "      <th>ID_VIV</th>\n",
       "      <th>COBERTURA</th>\n",
       "      <th>ESTRATO</th>\n",
       "      <th>UPM</th>\n",
       "      <th>FACTOR</th>\n",
       "      <th>CLAVIVP</th>\n",
       "      <th>PAREDES</th>\n",
       "      <th>...</th>\n",
       "      <th>ALIM_ADL1</th>\n",
       "      <th>ALIM_ADL2</th>\n",
       "      <th>ING_ALIM_ADL1</th>\n",
       "      <th>ING_ALIM_ADL2</th>\n",
       "      <th>ING_ALIM_ADL3</th>\n",
       "      <th>TIPOHOG</th>\n",
       "      <th>INGTRHOG</th>\n",
       "      <th>JEFE_SEXO</th>\n",
       "      <th>JEFE_EDAD</th>\n",
       "      <th>TAMLOC</th>\n",
       "    </tr>\n",
       "  </thead>\n",
       "  <tbody>\n",
       "    <tr>\n",
       "      <th>0</th>\n",
       "      <td>1</td>\n",
       "      <td>1</td>\n",
       "      <td>1</td>\n",
       "      <td>10010000001</td>\n",
       "      <td>2</td>\n",
       "      <td>01-001-0001-00</td>\n",
       "      <td>1</td>\n",
       "      <td>59</td>\n",
       "      <td>1</td>\n",
       "      <td>8.0</td>\n",
       "      <td>...</td>\n",
       "      <td>2</td>\n",
       "      <td>4</td>\n",
       "      <td>2</td>\n",
       "      <td>4</td>\n",
       "      <td>6</td>\n",
       "      <td>1</td>\n",
       "      <td>NaN</td>\n",
       "      <td>3</td>\n",
       "      <td>55</td>\n",
       "      <td>5</td>\n",
       "    </tr>\n",
       "    <tr>\n",
       "      <th>1</th>\n",
       "      <td>1</td>\n",
       "      <td>1</td>\n",
       "      <td>1</td>\n",
       "      <td>10010000002</td>\n",
       "      <td>2</td>\n",
       "      <td>01-001-0001-00</td>\n",
       "      <td>1</td>\n",
       "      <td>59</td>\n",
       "      <td>1</td>\n",
       "      <td>8.0</td>\n",
       "      <td>...</td>\n",
       "      <td>2</td>\n",
       "      <td>4</td>\n",
       "      <td>2</td>\n",
       "      <td>4</td>\n",
       "      <td>6</td>\n",
       "      <td>1</td>\n",
       "      <td>30100.0</td>\n",
       "      <td>1</td>\n",
       "      <td>45</td>\n",
       "      <td>5</td>\n",
       "    </tr>\n",
       "    <tr>\n",
       "      <th>2</th>\n",
       "      <td>1</td>\n",
       "      <td>1</td>\n",
       "      <td>1</td>\n",
       "      <td>10010000003</td>\n",
       "      <td>2</td>\n",
       "      <td>01-001-0001-00</td>\n",
       "      <td>1</td>\n",
       "      <td>59</td>\n",
       "      <td>1</td>\n",
       "      <td>8.0</td>\n",
       "      <td>...</td>\n",
       "      <td>2</td>\n",
       "      <td>4</td>\n",
       "      <td>2</td>\n",
       "      <td>4</td>\n",
       "      <td>6</td>\n",
       "      <td>5</td>\n",
       "      <td>20000.0</td>\n",
       "      <td>1</td>\n",
       "      <td>60</td>\n",
       "      <td>5</td>\n",
       "    </tr>\n",
       "    <tr>\n",
       "      <th>3</th>\n",
       "      <td>1</td>\n",
       "      <td>1</td>\n",
       "      <td>1</td>\n",
       "      <td>10010000004</td>\n",
       "      <td>2</td>\n",
       "      <td>01-001-0001-00</td>\n",
       "      <td>1</td>\n",
       "      <td>59</td>\n",
       "      <td>1</td>\n",
       "      <td>8.0</td>\n",
       "      <td>...</td>\n",
       "      <td>2</td>\n",
       "      <td>4</td>\n",
       "      <td>2</td>\n",
       "      <td>4</td>\n",
       "      <td>6</td>\n",
       "      <td>1</td>\n",
       "      <td>66000.0</td>\n",
       "      <td>1</td>\n",
       "      <td>62</td>\n",
       "      <td>5</td>\n",
       "    </tr>\n",
       "    <tr>\n",
       "      <th>4</th>\n",
       "      <td>1</td>\n",
       "      <td>1</td>\n",
       "      <td>1</td>\n",
       "      <td>10010000005</td>\n",
       "      <td>2</td>\n",
       "      <td>01-001-0001-00</td>\n",
       "      <td>1</td>\n",
       "      <td>59</td>\n",
       "      <td>1</td>\n",
       "      <td>8.0</td>\n",
       "      <td>...</td>\n",
       "      <td>2</td>\n",
       "      <td>4</td>\n",
       "      <td>2</td>\n",
       "      <td>4</td>\n",
       "      <td>6</td>\n",
       "      <td>1</td>\n",
       "      <td>25000.0</td>\n",
       "      <td>1</td>\n",
       "      <td>52</td>\n",
       "      <td>5</td>\n",
       "    </tr>\n",
       "  </tbody>\n",
       "</table>\n",
       "<p>5 rows × 83 columns</p>\n",
       "</div>"
      ],
      "text/plain": [
       "   ENT  MUN  LOC50K       ID_VIV  COBERTURA         ESTRATO  UPM  FACTOR  \\\n",
       "0    1    1       1  10010000001          2  01-001-0001-00    1      59   \n",
       "1    1    1       1  10010000002          2  01-001-0001-00    1      59   \n",
       "2    1    1       1  10010000003          2  01-001-0001-00    1      59   \n",
       "3    1    1       1  10010000004          2  01-001-0001-00    1      59   \n",
       "4    1    1       1  10010000005          2  01-001-0001-00    1      59   \n",
       "\n",
       "   CLAVIVP  PAREDES  ...  ALIM_ADL1  ALIM_ADL2  ING_ALIM_ADL1  ING_ALIM_ADL2  \\\n",
       "0        1      8.0  ...          2          4              2              4   \n",
       "1        1      8.0  ...          2          4              2              4   \n",
       "2        1      8.0  ...          2          4              2              4   \n",
       "3        1      8.0  ...          2          4              2              4   \n",
       "4        1      8.0  ...          2          4              2              4   \n",
       "\n",
       "   ING_ALIM_ADL3  TIPOHOG  INGTRHOG  JEFE_SEXO  JEFE_EDAD  TAMLOC  \n",
       "0              6        1       NaN          3         55       5  \n",
       "1              6        1   30100.0          1         45       5  \n",
       "2              6        5   20000.0          1         60       5  \n",
       "3              6        1   66000.0          1         62       5  \n",
       "4              6        1   25000.0          1         52       5  \n",
       "\n",
       "[5 rows x 83 columns]"
      ]
     },
     "execution_count": 6,
     "metadata": {},
     "output_type": "execute_result"
    }
   ],
   "source": [
    "df_inegi2020_vivienda.head()"
   ]
  },
  {
   "cell_type": "code",
   "execution_count": 7,
   "metadata": {},
   "outputs": [
    {
     "data": {
      "text/plain": [
       "0           1\n",
       "1           3\n",
       "2           2\n",
       "3           1\n",
       "4           2\n",
       "           ..\n",
       "15015678    2\n",
       "15015679    1\n",
       "15015680    3\n",
       "15015681    2\n",
       "15015682    1\n",
       "Name: NUMPER, Length: 15015683, dtype: int64"
      ]
     },
     "execution_count": 7,
     "metadata": {},
     "output_type": "execute_result"
    }
   ],
   "source": [
    "df_inegi2020['NUMPER']"
   ]
  },
  {
   "cell_type": "markdown",
   "metadata": {},
   "source": [
    "## Selección de los campos a juntar con la base de datos de vivienda"
   ]
  },
  {
   "cell_type": "code",
   "execution_count": 11,
   "metadata": {},
   "outputs": [],
   "source": [
    "df_inegi2020= df_inegi2020[['ID_VIV','NUMPER', 'SEXO', 'EDAD','SERSALUD','DHSERSAL1', 'NIVACAD', 'NOMCAR_C',\n",
    "           'SITUA_CONYUGAL','CREDITO_VIVIENDA']]"
   ]
  },
  {
   "cell_type": "code",
   "execution_count": 65,
   "metadata": {},
   "outputs": [],
   "source": [
    "df=pd.merge(df_inegi2020_vivienda, df_inegi2020, on= \"ID_VIV\")\n"
   ]
  },
  {
   "cell_type": "code",
   "execution_count": 74,
   "metadata": {},
   "outputs": [
    {
     "data": {
      "text/plain": [
       "3236762"
      ]
     },
     "execution_count": 74,
     "metadata": {},
     "output_type": "execute_result"
    }
   ],
   "source": [
    "len(df)\n",
    "len(df['ID_VIV'].unique())\n",
    "df['DUE2_NUM'].isna().sum()\n",
    "df['DUE1_NUM'].isna().sum()"
   ]
  },
  {
   "cell_type": "markdown",
   "metadata": {},
   "source": [
    "## Llenado de valores nulos "
   ]
  },
  {
   "cell_type": "code",
   "execution_count": 77,
   "metadata": {},
   "outputs": [
    {
     "name": "stdout",
     "output_type": "stream",
     "text": [
      "3236762\n",
      "958840\n"
     ]
    }
   ],
   "source": [
    "df.head()\n",
    "df[['DUE1_NUM','DUE2_NUM','ID_VIV','SEXO','NUMPER']].head()\n",
    "print(df['DUE1_NUM'].isna().sum())\n",
    "print(df_inegi2020_vivienda['DUE1_NUM'].isna().sum())"
   ]
  },
  {
   "cell_type": "code",
   "execution_count": 79,
   "metadata": {},
   "outputs": [],
   "source": [
    "df.head()\n",
    "df[['DUE1_NUM','DUE2_NUM','ID_VIV','SEXO','NUMPER']].head()\n",
    "df_dueño=df[(df['DUE1_NUM']==df['NUMPER'])]"
   ]
  },
  {
   "cell_type": "code",
   "execution_count": 100,
   "metadata": {},
   "outputs": [
    {
     "name": "stdout",
     "output_type": "stream",
     "text": [
      "[1 2 5 3 4 6]\n"
     ]
    },
    {
     "data": {
      "text/plain": [
       "2969579"
      ]
     },
     "execution_count": 100,
     "metadata": {},
     "output_type": "execute_result"
    }
   ],
   "source": [
    "df_dueños=df_dueño[df_dueño['TENENCIA']==1]\n",
    "df_dueños=df_dueños[df_dueños['CLAVIVP']<7]\n",
    "print(df_dueños['CLAVIVP'].unique())\n",
    "#df_dueños_escritura=df_dueños[df_dueños['ESCRITURAS']==1]\n",
    "len(df_dueños)"
   ]
  },
  {
   "cell_type": "code",
   "execution_count": 91,
   "metadata": {},
   "outputs": [],
   "source": [
    "df_porsexo=df_dueños.groupby(\"SEXO\")[\"ID_VIV\"].count().reset_index()"
   ]
  },
  {
   "cell_type": "code",
   "execution_count": 130,
   "metadata": {},
   "outputs": [],
   "source": [
    "df_inegi=df_inegi2020_vivienda[(df_inegi2020_vivienda['TENENCIA']==1)&(df_inegi2020_vivienda['CLAVIVP']<7)&(df_inegi2020_vivienda['DUE1_NUM'].notna())]\n",
    "df_inegi_99=df_inegi[df_inegi['DUE1_NUM']!=99]\n",
    "df_inegi_no=df_inegi_99[df_inegi_99['DUE2_NUM'].isna()]"
   ]
  },
  {
   "cell_type": "code",
   "execution_count": 132,
   "metadata": {},
   "outputs": [],
   "source": [
    "df_ing=pd.merge(df_inegi_no, df_inegi2020, on= \"ID_VIV\")\n"
   ]
  },
  {
   "cell_type": "code",
   "execution_count": 133,
   "metadata": {},
   "outputs": [
    {
     "data": {
      "text/plain": [
       "2781558"
      ]
     },
     "execution_count": 133,
     "metadata": {},
     "output_type": "execute_result"
    }
   ],
   "source": [
    "len(df_ing['ID_VIV'].unique())"
   ]
  },
  {
   "cell_type": "code",
   "execution_count": 134,
   "metadata": {},
   "outputs": [
    {
     "data": {
      "text/plain": [
       "10685470"
      ]
     },
     "execution_count": 134,
     "metadata": {},
     "output_type": "execute_result"
    }
   ],
   "source": [
    "len(df_ing)"
   ]
  },
  {
   "cell_type": "code",
   "execution_count": 135,
   "metadata": {},
   "outputs": [],
   "source": [
    "df_dueño=df_ing[(df_ing['DUE1_NUM']==df_ing['NUMPER'])]"
   ]
  },
  {
   "cell_type": "code",
   "execution_count": 136,
   "metadata": {},
   "outputs": [
    {
     "data": {
      "text/plain": [
       "2781558"
      ]
     },
     "execution_count": 136,
     "metadata": {},
     "output_type": "execute_result"
    }
   ],
   "source": [
    "len(df_dueño)"
   ]
  },
  {
   "cell_type": "code",
   "execution_count": 139,
   "metadata": {},
   "outputs": [],
   "source": [
    "df_porsexo=df_dueño.groupby(\"SEXO\")[\"FACTOR\"].sum().reset_index()"
   ]
  },
  {
   "cell_type": "markdown",
   "metadata": {},
   "source": [
    "## Porcentajes por propietario "
   ]
  },
  {
   "cell_type": "code",
   "execution_count": 141,
   "metadata": {},
   "outputs": [
    {
     "data": {
      "image/png": "[encoded data removed]",
      "text/plain": [
       "<Figure size 432x288 with 1 Axes>"
      ]
     },
     "metadata": {},
     "output_type": "display_data"
    }
   ],
   "source": [
    "import matplotlib.pyplot as plt\n",
    "\n",
    "plt.pie(df_porsexo['FACTOR'], labels=df_porsexo['SEXO'],autopct=\"%0.1f %%\")\n",
    "plt.show()"
   ]
  },
  {
   "cell_type": "code",
   "execution_count": 149,
   "metadata": {},
   "outputs": [
    {
     "data": {
      "image/png": "[encoded data removed]",
      "text/plain": [
       "<Figure size 432x288 with 1 Axes>"
      ]
     },
     "metadata": {},
     "output_type": "display_data"
    }
   ],
   "source": [
    "df_tenencia=df_inegi2020_vivienda.groupby(\"TENENCIA\")[\"FACTOR\"].sum().reset_index()\n",
    "plt.pie(df_tenencia['FACTOR'], labels=df_tenencia['TENENCIA'],autopct=\"%0.1f %%\")\n",
    "plt.show()"
   ]
  },
  {
   "cell_type": "code",
   "execution_count": 150,
   "metadata": {},
   "outputs": [
    {
     "data": {
      "image/png": "[encoded data removed]",
      "text/plain": [
       "<Figure size 432x288 with 1 Axes>"
      ]
     },
     "metadata": {},
     "output_type": "display_data"
    }
   ],
   "source": [
    "df_adquisicion=df_inegi2020_vivienda.groupby(\"FORMA_ADQUI\")[\"FACTOR\"].sum().reset_index()\n",
    "plt.pie(df_adquisicion['FACTOR'], labels=df_adquisicion['FORMA_ADQUI'],autopct=\"%0.1f %%\")\n",
    "plt.show()"
   ]
  },
  {
   "cell_type": "markdown",
   "metadata": {},
   "source": [
    "## Distribucion de casas por jefe de familia "
   ]
  },
  {
   "cell_type": "code",
   "execution_count": 148,
   "metadata": {},
   "outputs": [
    {
     "data": {
      "image/png": "[encoded data removed]",
      "text/plain": [
       "<Figure size 432x288 with 1 Axes>"
      ]
     },
     "metadata": {},
     "output_type": "display_data"
    }
   ],
   "source": [
    "df_porsexo_jefe=df_dueño.groupby(\"JEFE_SEXO\")[\"FACTOR\"].sum().reset_index()\n",
    "plt.pie(df_porsexo_jefe['FACTOR'], labels=df_porsexo_jefe['JEFE_SEXO'],autopct=\"%0.1f %%\")\n",
    "plt.show()"
   ]
  },
  {
   "cell_type": "code",
   "execution_count": null,
   "metadata": {},
   "outputs": [],
   "source": [
    " df_porsexo['FACTOR'].sum()"
   ]
  },
  {
   "cell_type": "code",
   "execution_count": 199,
   "metadata": {},
   "outputs": [],
   "source": [
    "df_dueño.columns\n",
    "df_dueño_2 = df_dueño.fillna(0)"
   ]
  },
  {
   "cell_type": "markdown",
   "metadata": {},
   "source": [
    "## Decodificacion de datos "
   ]
  },
  {
   "cell_type": "code",
   "execution_count": 1,
   "metadata": {},
   "outputs": [
    {
     "ename": "NameError",
     "evalue": "name 'pd' is not defined",
     "output_type": "error",
     "traceback": [
      "\u001b[1;31m---------------------------------------------------------------------------\u001b[0m",
      "\u001b[1;31mNameError\u001b[0m                                 Traceback (most recent call last)",
      "\u001b[1;32m<ipython-input-1-ce24fe54eb58>\u001b[0m in \u001b[0;36m<module>\u001b[1;34m\u001b[0m\n\u001b[0;32m      1\u001b[0m \u001b[1;31m#Importando diccionarios\u001b[0m\u001b[1;33m\u001b[0m\u001b[1;33m\u001b[0m\u001b[1;33m\u001b[0m\u001b[0m\n\u001b[1;32m----> 2\u001b[1;33m \u001b[0magua\u001b[0m \u001b[1;33m=\u001b[0m \u001b[0mpd\u001b[0m\u001b[1;33m.\u001b[0m\u001b[0mread_csv\u001b[0m\u001b[1;33m(\u001b[0m\u001b[1;34m'AGUA_ENTUBADA.csv'\u001b[0m\u001b[1;33m,\u001b[0m \u001b[0mencoding\u001b[0m \u001b[1;33m=\u001b[0m \u001b[1;34m'latin-1'\u001b[0m\u001b[1;33m)\u001b[0m\u001b[1;33m\u001b[0m\u001b[1;33m\u001b[0m\u001b[0m\n\u001b[0m\u001b[0;32m      3\u001b[0m \u001b[0mcelular\u001b[0m \u001b[1;33m=\u001b[0m \u001b[0mpd\u001b[0m\u001b[1;33m.\u001b[0m\u001b[0mread_csv\u001b[0m\u001b[1;33m(\u001b[0m\u001b[1;34m'CELULAR.csv'\u001b[0m\u001b[1;33m,\u001b[0m \u001b[0mencoding\u001b[0m \u001b[1;33m=\u001b[0m \u001b[1;34m'latin-1'\u001b[0m\u001b[1;33m)\u001b[0m\u001b[1;33m\u001b[0m\u001b[1;33m\u001b[0m\u001b[0m\n\u001b[0;32m      4\u001b[0m \u001b[0mcombustible\u001b[0m \u001b[1;33m=\u001b[0m \u001b[0mpd\u001b[0m\u001b[1;33m.\u001b[0m\u001b[0mread_csv\u001b[0m\u001b[1;33m(\u001b[0m\u001b[1;34m'COMBUSTIBLE.csv'\u001b[0m\u001b[1;33m,\u001b[0m \u001b[0mencoding\u001b[0m \u001b[1;33m=\u001b[0m \u001b[1;34m'latin-1'\u001b[0m\u001b[1;33m)\u001b[0m\u001b[1;33m\u001b[0m\u001b[1;33m\u001b[0m\u001b[0m\n\u001b[0;32m      5\u001b[0m \u001b[0mdeuda\u001b[0m \u001b[1;33m=\u001b[0m \u001b[0mpd\u001b[0m\u001b[1;33m.\u001b[0m\u001b[0mread_csv\u001b[0m\u001b[1;33m(\u001b[0m\u001b[1;34m'DEUDA.csv'\u001b[0m\u001b[1;33m,\u001b[0m \u001b[0mencoding\u001b[0m \u001b[1;33m=\u001b[0m \u001b[1;34m'latin-1'\u001b[0m\u001b[1;33m)\u001b[0m\u001b[1;33m\u001b[0m\u001b[1;33m\u001b[0m\u001b[0m\n",
      "\u001b[1;31mNameError\u001b[0m: name 'pd' is not defined"
     ]
    }
   ],
   "source": [
    "#Importando diccionarios\n",
    "agua = pd.read_csv('AGUA_ENTUBADA.csv', encoding = 'latin-1')\n",
    "celular = pd.read_csv('CELULAR.csv', encoding = 'latin-1')\n",
    "combustible = pd.read_csv('COMBUSTIBLE.csv', encoding = 'latin-1')\n",
    "deuda = pd.read_csv('DEUDA.csv', encoding = 'latin-1')\n",
    "drenaje = pd.read_csv('DRENAJE.csv', encoding = 'latin-1')\n",
    "electricidad = pd.read_csv('ELECTRICIDAD.csv', encoding = 'latin-1')\n",
    "escrituras = pd.read_csv('ESCRITURAS.csv', encoding = 'latin-1')\n",
    "financiamiento = pd.read_csv('FINANCIAMIENTO1.csv', encoding = 'latin-1')\n",
    "adquisicion = pd.read_csv('FORMA_ADQUI.csv', encoding = 'latin-1')\n",
    "internet = pd.read_csv('INTERNET.csv', encoding = 'latin-1')\n",
    "telefono = pd.read_csv('TELEFONO.csv', encoding = 'latin-1')\n",
    "tenencia = pd.read_csv('TENENCIA.csv', encoding = 'latin-1')\n",
    "sexo = pd.read_csv('JEFE_SEXO.csv', encoding = 'latin-1')\n",
    "computadora = pd.read_csv('COMPUTADORA.csv', encoding = 'latin-1')\n",
    "edo_mun = pd.read_csv('MUN.csv', encoding = 'latin-1')\n",
    "edo = edo_mun[['CVE_ENT','NOM_ENT']]\n",
    "edo = edo.drop_duplicates(keep='first',inplace=False).reset_index(drop = True)\n",
    "edo = edo.rename(columns={'CVE_ENT':'ENT'})\n",
    "edo"
   ]
  },
  {
   "cell_type": "code",
   "execution_count": null,
   "metadata": {},
   "outputs": [],
   "source": [
    "data_ent_1=df_dueño_2[['FACTOR','ENT','FINANCIAMIENTO1','DEUDA', 'NUMPERS', 'SEXO', 'JEFE_EDAD','TENENCIA','FORMA_ADQUI', 'INGTRHOG', 'ESCRITURAS',\n",
    "           'COMBUSTIBLE','ELECTRICIDAD', 'AGUA_ENTUBADA','DRENAJE','COMPUTADORA', 'TELEFONO', 'CELULAR', 'INTERNET' ]]"
   ]
  },
  {
   "cell_type": "code",
   "execution_count": null,
   "metadata": {},
   "outputs": [],
   "source": [
    "data_ent_1 = pd.merge(data_ent_1, sexo, on = 'SEXO', how = 'inner') #FALTA\n",
    "data_ent_1 = pd.merge(data_ent_1, financiamiento, on = 'FINANCIAMIENTO1', how = 'inner')\n",
    "data_ent_1 = pd.merge(data_ent_1, deuda, on = 'DEUDA', how = 'inner')\n",
    "data_ent_1 = pd.merge(data_ent_1, tenencia, on = 'TENENCIA', how = 'inner')\n",
    "data_ent_1 = pd.merge(data_ent_1, adquisicion, on = 'FORMA_ADQUI', how = 'inner')\n",
    "data_ent_1 = pd.merge(data_ent_1, escrituras, on = 'ESCRITURAS', how = 'inner')\n",
    "data_ent_1 = pd.merge(data_ent_1, combustible, on = 'COMBUSTIBLE', how = 'inner')\n",
    "data_ent_1 = pd.merge(data_ent_1, electricidad, on = 'ELECTRICIDAD', how = 'inner')\n",
    "data_ent_1 = pd.merge(data_ent_1, agua, on = 'AGUA_ENTUBADA', how = 'inner')\n",
    "data_ent_1 = pd.merge(data_ent_1, drenaje, on = 'DRENAJE', how = 'inner')\n",
    "data_ent_1 = pd.merge(data_ent_1, internet, on = 'INTERNET', how = 'inner')\n",
    "data_ent_1 = pd.merge(data_ent_1, telefono, on = 'TELEFONO', how = 'inner')\n",
    "data_ent_1 = pd.merge(data_ent_1, celular, on = 'CELULAR', how = 'inner')\n",
    "data_ent_1 = pd.merge(data_ent_1, computadora, on = 'COMPUTADORA', how = 'inner') \n",
    "data_ent_1 = pd.merge(data_ent_1, edo, on = 'ENT', how = 'inner') \n",
    "data_ent_1.shape"
   ]
  },
  {
   "cell_type": "code",
   "execution_count": null,
   "metadata": {},
   "outputs": [],
   "source": [
    "data_ent_1.info()\n",
    "df_clean = data_ent_1.fillna(0)\n"
   ]
  },
  {
   "cell_type": "code",
   "execution_count": null,
   "metadata": {},
   "outputs": [],
   "source": [
    "df_clean.head()\n",
    "data_plot = df_clean.drop(['ENT','FINANCIAMIENTO1','DEUDA', 'SEXO','TENENCIA','FORMA_ADQUI', 'ESCRITURAS',\n",
    "           'COMBUSTIBLE','ELECTRICIDAD', 'AGUA_ENTUBADA','DRENAJE','COMPUTADORA', 'TELEFONO', 'CELULAR', 'INTERNET'], axis = 1 )"
   ]
  },
  {
   "cell_type": "code",
   "execution_count": null,
   "metadata": {
    "scrolled": true
   },
   "outputs": [],
   "source": [
    "data_plot.head()\n"
   ]
  },
  {
   "cell_type": "markdown",
   "metadata": {},
   "source": [
    "# Generacion de csv para analisis conteniendo propietarios de casas particulares con su genero."
   ]
  },
  {
   "cell_type": "code",
   "execution_count": null,
   "metadata": {},
   "outputs": [],
   "source": [
    "data_plot.to_csv('data_plot_4.csv')"
   ]
  },
  {
   "cell_type": "code",
   "execution_count": null,
   "metadata": {},
   "outputs": [],
   "source": [
    "\n",
    "plt.pie(df_porsexo_jefe['FACTOR'], labels=df_porsexo_jefe['JEFE_SEXO_NOM'],autopct=\"%0.1f %%\")\n",
    "plt.show()"
   ]
  },
  {
   "cell_type": "code",
   "execution_count": null,
   "metadata": {},
   "outputs": [],
   "source": [
    "df_porsexo_jefe=data_plot.groupby(\"JEFE_SEXO_NOM\")[\"FACTOR\"].sum().reset_index()\n"
   ]
  },
  {
   "cell_type": "code",
   "execution_count": null,
   "metadata": {},
   "outputs": [],
   "source": [
    "plt.pie(df_porsexo_jefe['FACTOR'], labels=df_porsexo_jefe['JEFE_SEXO_NOM'],autopct=\"%0.1f %%\")\n",
    "plt.show()"
   ]
  },
  {
   "cell_type": "code",
   "execution_count": null,
   "metadata": {},
   "outputs": [],
   "source": [
    "data_ent_1.corr()"
   ]
  },
  {
   "cell_type": "code",
   "execution_count": null,
   "metadata": {},
   "outputs": [],
   "source": [
    "data_plot.shape\n"
   ]
  },
  {
   "cell_type": "code",
   "execution_count": null,
   "metadata": {},
   "outputs": [],
   "source": [
    "data_ent_1.shape"
   ]
  },
  {
   "cell_type": "code",
   "execution_count": null,
   "metadata": {},
   "outputs": [],
   "source": [
    "df_dueño.shape"
   ]
  },
  {
   "cell_type": "code",
   "execution_count": null,
   "metadata": {},
   "outputs": [],
   "source": []
  }
 ],
 "metadata": {
  "kernelspec": {
   "display_name": "Python 3",
   "language": "python",
   "name": "python3"
  },
  "language_info": {
   "codemirror_mode": {
    "name": "ipython",
    "version": 3
   },
   "file_extension": ".py",
   "mimetype": "text/x-python",
   "name": "python",
   "nbconvert_exporter": "python",
   "pygments_lexer": "ipython3",
   "version": "3.8.3"
  }
 },
 "nbformat": 4,
 "nbformat_minor": 4
}
