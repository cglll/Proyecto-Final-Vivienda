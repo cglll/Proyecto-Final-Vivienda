{
 "cells": [
  {
   "cell_type": "markdown",
   "metadata": {},
   "source": [
    "# Limpieza de datos tabulado de viviendas censo INEGI2020"
   ]
  },
  {
   "cell_type": "code",
   "execution_count": 1,
   "metadata": {
    "colab": {
     "base_uri": "https://localhost:8080/"
    },
    "executionInfo": {
     "elapsed": 1028,
     "status": "ok",
     "timestamp": 1616283051973,
     "user": {
      "displayName": "Stephanie Patricia Cortés Sánchez",
      "photoUrl": "https://lh3.googleusercontent.com/a-/AOh14GhJ89kO2O4-VcfqHQblbKDJMkojSR04T-1CgPexNg=s64",
      "userId": "10639281671821140378"
     },
     "user_tz": 360
    },
    "id": "qIEt5G2Yhws8",
    "outputId": "09f93884-3af7-4ec6-81f7-88cb214dd340"
   },
   "outputs": [
    {
     "ename": "ModuleNotFoundError",
     "evalue": "No module named 'google'",
     "output_type": "error",
     "traceback": [
      "\u001b[1;31m---------------------------------------------------------------------------\u001b[0m",
      "\u001b[1;31mModuleNotFoundError\u001b[0m                       Traceback (most recent call last)",
      "\u001b[1;32m<ipython-input-1-d5df0069828e>\u001b[0m in \u001b[0;36m<module>\u001b[1;34m\u001b[0m\n\u001b[1;32m----> 1\u001b[1;33m \u001b[1;32mfrom\u001b[0m \u001b[0mgoogle\u001b[0m\u001b[1;33m.\u001b[0m\u001b[0mcolab\u001b[0m \u001b[1;32mimport\u001b[0m \u001b[0mdrive\u001b[0m\u001b[1;33m\u001b[0m\u001b[1;33m\u001b[0m\u001b[0m\n\u001b[0m\u001b[0;32m      2\u001b[0m \u001b[0mdrive\u001b[0m\u001b[1;33m.\u001b[0m\u001b[0mmount\u001b[0m\u001b[1;33m(\u001b[0m\u001b[1;34m'/content/drive'\u001b[0m\u001b[1;33m)\u001b[0m\u001b[1;33m\u001b[0m\u001b[1;33m\u001b[0m\u001b[0m\n",
      "\u001b[1;31mModuleNotFoundError\u001b[0m: No module named 'google'"
     ]
    }
   ],
   "source": [
    "from google.colab import drive\n",
    "drive.mount('/content/drive')"
   ]
  },
  {
   "cell_type": "markdown",
   "metadata": {},
   "source": [
    "### Librerias "
   ]
  },
  {
   "cell_type": "code",
   "execution_count": null,
   "metadata": {
    "id": "27E0Q_gWh3n9"
   },
   "outputs": [],
   "source": [
    "import pandas as pd\n",
    "import numpy as np\n",
    "import matplotlib.pyplot as plt\n",
    "import seaborn as sns\n"
   ]
  },
  {
   "cell_type": "markdown",
   "metadata": {},
   "source": [
    "### Carga de tabulado encuesta intercensal 2015 "
   ]
  },
  {
   "cell_type": "code",
   "execution_count": null,
   "metadata": {
    "id": "NQsZwcr0ibYJ"
   },
   "outputs": [],
   "source": [
    "df_15 = pd.read_csv('/content/drive/MyDrive/PROYECTO FINAL IRONHACK/BASE DE DATOS/14_vivienda_csv_2015.csv', encoding = 'latin-1')# delimiter = ',')"
   ]
  },
  {
   "cell_type": "code",
   "execution_count": null,
   "metadata": {
    "id": "UHXYWEeEigH-"
   },
   "outputs": [],
   "source": [
    "df_15 = df_15[15:]"
   ]
  },
  {
   "cell_type": "code",
   "execution_count": null,
   "metadata": {
    "colab": {
     "base_uri": "https://localhost:8080/",
     "height": 250
    },
    "executionInfo": {
     "elapsed": 1424,
     "status": "ok",
     "timestamp": 1616283052401,
     "user": {
      "displayName": "Stephanie Patricia Cortés Sánchez",
      "photoUrl": "https://lh3.googleusercontent.com/a-/AOh14GhJ89kO2O4-VcfqHQblbKDJMkojSR04T-1CgPexNg=s64",
      "userId": "10639281671821140378"
     },
     "user_tz": 360
    },
    "id": "1ehfXySbiz4w",
    "outputId": "7ae9f62f-6b4f-4a9e-8ec0-452d30ed8bba"
   },
   "outputs": [],
   "source": [
    "df_15.head()"
   ]
  },
  {
   "cell_type": "code",
   "execution_count": null,
   "metadata": {
    "id": "ZNpFPWFMjr5y"
   },
   "outputs": [],
   "source": [
    "df_15_rename = df_15.rename(columns={\"INEGI. Tabulados de la Encuesta Intercensal 2015\": \"Entidad\", \"Unnamed: 1\": \"Estimador\",\n",
    "                    \"Unnamed: 2\":\"Viviendas_particulares_habitadas_propias\", \"Unnamed: 3\": \"Prop_H\",\n",
    "                    \"Unnamed: 4\": \"Prop_M\", \"Unnamed: 5\": \"Prop_HM\", \"Unnamed: 6\":\"Prop_MH\",\n",
    "                    \"Unnamed: 7\": \"Prop_igual\", \"Índice\":\"No_identificado\" })"
   ]
  },
  {
   "cell_type": "code",
   "execution_count": null,
   "metadata": {
    "colab": {
     "base_uri": "https://localhost:8080/",
     "height": 285
    },
    "executionInfo": {
     "elapsed": 1404,
     "status": "ok",
     "timestamp": 1616283052406,
     "user": {
      "displayName": "Stephanie Patricia Cortés Sánchez",
      "photoUrl": "https://lh3.googleusercontent.com/a-/AOh14GhJ89kO2O4-VcfqHQblbKDJMkojSR04T-1CgPexNg=s64",
      "userId": "10639281671821140378"
     },
     "user_tz": 360
    },
    "id": "Wah9gc_ijY2h",
    "outputId": "6e815cec-d415-4aa1-d25b-ccc6821d9508"
   },
   "outputs": [],
   "source": [
    "df_15_rename.head()"
   ]
  },
  {
   "cell_type": "code",
   "execution_count": null,
   "metadata": {
    "colab": {
     "base_uri": "https://localhost:8080/"
    },
    "executionInfo": {
     "elapsed": 1387,
     "status": "ok",
     "timestamp": 1616283052407,
     "user": {
      "displayName": "Stephanie Patricia Cortés Sánchez",
      "photoUrl": "https://lh3.googleusercontent.com/a-/AOh14GhJ89kO2O4-VcfqHQblbKDJMkojSR04T-1CgPexNg=s64",
      "userId": "10639281671821140378"
     },
     "user_tz": 360
    },
    "id": "UskTBPZaqb9Y",
    "outputId": "6d546330-9032-4fd4-e385-443bbe9be339"
   },
   "outputs": [],
   "source": [
    "df_15_rename.info()"
   ]
  },
  {
   "cell_type": "code",
   "execution_count": null,
   "metadata": {
    "colab": {
     "base_uri": "https://localhost:8080/",
     "height": 1000
    },
    "executionInfo": {
     "elapsed": 1735,
     "status": "ok",
     "timestamp": 1616283052768,
     "user": {
      "displayName": "Stephanie Patricia Cortés Sánchez",
      "photoUrl": "https://lh3.googleusercontent.com/a-/AOh14GhJ89kO2O4-VcfqHQblbKDJMkojSR04T-1CgPexNg=s64",
      "userId": "10639281671821140378"
     },
     "user_tz": 360
    },
    "id": "nwLMgm1Bo3C2",
    "outputId": "5d6b6ed1-7b78-4dea-e26a-b1952bb63d65"
   },
   "outputs": [],
   "source": [
    "df_15_plot = df_15_rename.loc[df_15_rename['Estimador'] == \"Valor\"].reset_index()\n",
    "df_15_plot"
   ]
  },
  {
   "cell_type": "code",
   "execution_count": null,
   "metadata": {
    "colab": {
     "base_uri": "https://localhost:8080/",
     "height": 1000
    },
    "executionInfo": {
     "elapsed": 1730,
     "status": "ok",
     "timestamp": 1616283052778,
     "user": {
      "displayName": "Stephanie Patricia Cortés Sánchez",
      "photoUrl": "https://lh3.googleusercontent.com/a-/AOh14GhJ89kO2O4-VcfqHQblbKDJMkojSR04T-1CgPexNg=s64",
      "userId": "10639281671821140378"
     },
     "user_tz": 360
    },
    "id": "ZfI97LqssADT",
    "outputId": "c47ad033-f9bd-4bac-8f93-3c8022401a7f"
   },
   "outputs": [],
   "source": [
    "new = pd.DataFrame(df_15_plot[\"Entidad\"].str.split(\" \", 1, expand = True))#tolist(), colums = ['Estimador','Entidad'])\n",
    "new\n"
   ]
  },
  {
   "cell_type": "code",
   "execution_count": null,
   "metadata": {
    "colab": {
     "base_uri": "https://localhost:8080/"
    },
    "executionInfo": {
     "elapsed": 1715,
     "status": "ok",
     "timestamp": 1616283052780,
     "user": {
      "displayName": "Stephanie Patricia Cortés Sánchez",
      "photoUrl": "https://lh3.googleusercontent.com/a-/AOh14GhJ89kO2O4-VcfqHQblbKDJMkojSR04T-1CgPexNg=s64",
      "userId": "10639281671821140378"
     },
     "user_tz": 360
    },
    "id": "7HnfUH22v1vp",
    "outputId": "d213562a-017e-4606-bb82-6805f4c5acc4"
   },
   "outputs": [],
   "source": [
    "new[0]"
   ]
  },
  {
   "cell_type": "code",
   "execution_count": null,
   "metadata": {
    "id": "1mTVVPnAsoQu"
   },
   "outputs": [],
   "source": [
    "df_15_plot[\"No\"] = new[0]\n",
    "df_15_plot[\"Nom_entidad\"] = new[1]\n",
    "df_15_plot['anio'] = 2015"
   ]
  },
  {
   "cell_type": "code",
   "execution_count": null,
   "metadata": {
    "colab": {
     "base_uri": "https://localhost:8080/",
     "height": 1000
    },
    "executionInfo": {
     "elapsed": 1702,
     "status": "ok",
     "timestamp": 1616283052796,
     "user": {
      "displayName": "Stephanie Patricia Cortés Sánchez",
      "photoUrl": "https://lh3.googleusercontent.com/a-/AOh14GhJ89kO2O4-VcfqHQblbKDJMkojSR04T-1CgPexNg=s64",
      "userId": "10639281671821140378"
     },
     "user_tz": 360
    },
    "id": "PWzwWwXMsoNt",
    "outputId": "6cb98aee-eed5-462d-c5b9-61c50a986253"
   },
   "outputs": [],
   "source": [
    "data_15 = df_15_plot\n",
    "data_15"
   ]
  },
  {
   "cell_type": "code",
   "execution_count": null,
   "metadata": {
    "colab": {
     "base_uri": "https://localhost:8080/",
     "height": 1000
    },
    "executionInfo": {
     "elapsed": 1680,
     "status": "ok",
     "timestamp": 1616283052798,
     "user": {
      "displayName": "Stephanie Patricia Cortés Sánchez",
      "photoUrl": "https://lh3.googleusercontent.com/a-/AOh14GhJ89kO2O4-VcfqHQblbKDJMkojSR04T-1CgPexNg=s64",
      "userId": "10639281671821140378"
     },
     "user_tz": 360
    },
    "id": "usPs7DLuobpV",
    "outputId": "d65021b5-f1e3-43b4-ca25-19cc2f7fe753"
   },
   "outputs": [],
   "source": [
    "sup = pd.read_csv('/content/drive/MyDrive/PROYECTO FINAL IRONHACK/Superficies.csv', encoding = 'latin-1')\n",
    "sup"
   ]
  },
  {
   "cell_type": "code",
   "execution_count": null,
   "metadata": {
    "colab": {
     "base_uri": "https://localhost:8080/",
     "height": 1000
    },
    "executionInfo": {
     "elapsed": 1662,
     "status": "ok",
     "timestamp": 1616283052800,
     "user": {
      "displayName": "Stephanie Patricia Cortés Sánchez",
      "photoUrl": "https://lh3.googleusercontent.com/a-/AOh14GhJ89kO2O4-VcfqHQblbKDJMkojSR04T-1CgPexNg=s64",
      "userId": "10639281671821140378"
     },
     "user_tz": 360
    },
    "id": "QCsdUc2tofq7",
    "outputId": "b551a630-6029-4a1b-efc0-397eb21e8513"
   },
   "outputs": [],
   "source": [
    "df15 = data_15.join(sup)\n",
    "df15"
   ]
  },
  {
   "cell_type": "markdown",
   "metadata": {
    "id": "ccqWC04H9DGQ"
   },
   "source": [
    "### Cargando Datos  de tabulado de la encuesta INEGI de poblacion y vivienda 2020 "
   ]
  },
  {
   "cell_type": "code",
   "execution_count": null,
   "metadata": {
    "colab": {
     "base_uri": "https://localhost:8080/",
     "height": 976
    },
    "executionInfo": {
     "elapsed": 1877,
     "status": "ok",
     "timestamp": 1616283053058,
     "user": {
      "displayName": "Stephanie Patricia Cortés Sánchez",
      "photoUrl": "https://lh3.googleusercontent.com/a-/AOh14GhJ89kO2O4-VcfqHQblbKDJMkojSR04T-1CgPexNg=s64",
      "userId": "10639281671821140378"
     },
     "user_tz": 360
    },
    "id": "BthIW4l7lX9f",
    "outputId": "a124da96-4520-4c00-ce9a-de6420335906"
   },
   "outputs": [],
   "source": [
    "data_20 = pd.read_csv('/content/drive/MyDrive/PROYECTO FINAL IRONHACK/BASE DE DATOS/cpv2020_a_eum_16_vivienda_csv_2020.csv', encoding = 'latin-1')\n",
    "data_20.head(20)"
   ]
  },
  {
   "cell_type": "code",
   "execution_count": null,
   "metadata": {
    "colab": {
     "base_uri": "https://localhost:8080/"
    },
    "executionInfo": {
     "elapsed": 1865,
     "status": "ok",
     "timestamp": 1616283053060,
     "user": {
      "displayName": "Stephanie Patricia Cortés Sánchez",
      "photoUrl": "https://lh3.googleusercontent.com/a-/AOh14GhJ89kO2O4-VcfqHQblbKDJMkojSR04T-1CgPexNg=s64",
      "userId": "10639281671821140378"
     },
     "user_tz": 360
    },
    "id": "nEEm7h8W_js6",
    "outputId": "ca003a4b-49ae-4f1e-b0a3-7a91a8b790b6"
   },
   "outputs": [],
   "source": [
    "data_20.columns"
   ]
  },
  {
   "cell_type": "code",
   "execution_count": null,
   "metadata": {
    "id": "FpgZILg9lrZF"
   },
   "outputs": [],
   "source": [
    "data_20 = data_20[13:]"
   ]
  },
  {
   "cell_type": "code",
   "execution_count": null,
   "metadata": {
    "id": "c96gQNj29Fkx"
   },
   "outputs": [],
   "source": [
    "df_20_rename = data_20.rename(columns={\"INEGI. Censo de Población y Vivienda 2020. Tabulados del Cuestionario Ampliado\": \"Entidad\", \"Unnamed: 1\": \"Estimador\",\n",
    "                    \"Unnamed: 2\":\"Viviendas_particulares_habitadas_propias\", \"Unnamed: 3\": \"Prop_M\",\n",
    "                    \"Unnamed: 4\": \"Prop_H\", \"Unnamed: 5\": \"Prop_MM\", \"Unnamed: 6\":\"Prop_HH\",\n",
    "                    \"Unnamed: 7\": \"Prop_HM\", \"Índice\":\"No_identificado\" })"
   ]
  },
  {
   "cell_type": "code",
   "execution_count": null,
   "metadata": {
    "id": "3gJuR3Jy9r7j"
   },
   "outputs": [],
   "source": [
    "df_20_plot = df_20_rename.loc[df_20_rename['Estimador'] == \"Valor\"].reset_index()\n",
    "df_20_plot.drop('index', axis = 1, inplace = True)"
   ]
  },
  {
   "cell_type": "code",
   "execution_count": null,
   "metadata": {
    "colab": {
     "base_uri": "https://localhost:8080/",
     "height": 1000
    },
    "executionInfo": {
     "elapsed": 1833,
     "status": "ok",
     "timestamp": 1616283053066,
     "user": {
      "displayName": "Stephanie Patricia Cortés Sánchez",
      "photoUrl": "https://lh3.googleusercontent.com/a-/AOh14GhJ89kO2O4-VcfqHQblbKDJMkojSR04T-1CgPexNg=s64",
      "userId": "10639281671821140378"
     },
     "user_tz": 360
    },
    "id": "tb2dBp4X92QN",
    "outputId": "d2dad954-5215-4cd8-f5bc-23655a529a9a"
   },
   "outputs": [],
   "source": [
    "df_20_plot"
   ]
  },
  {
   "cell_type": "code",
   "execution_count": null,
   "metadata": {
    "id": "ao0u1PhI-BAa"
   },
   "outputs": [],
   "source": [
    "df_20_plot[\"No\"] = new[0]\n",
    "df_20_plot[\"Nom_entidad\"] = new[1]\n",
    "df_20_plot[\"anio\"]= 2020"
   ]
  },
  {
   "cell_type": "code",
   "execution_count": null,
   "metadata": {
    "colab": {
     "base_uri": "https://localhost:8080/",
     "height": 1000
    },
    "executionInfo": {
     "elapsed": 1810,
     "status": "ok",
     "timestamp": 1616283053069,
     "user": {
      "displayName": "Stephanie Patricia Cortés Sánchez",
      "photoUrl": "https://lh3.googleusercontent.com/a-/AOh14GhJ89kO2O4-VcfqHQblbKDJMkojSR04T-1CgPexNg=s64",
      "userId": "10639281671821140378"
     },
     "user_tz": 360
    },
    "id": "X2NBWgvq_XQa",
    "outputId": "c5955450-5254-416d-c5ea-8b624337818a"
   },
   "outputs": [],
   "source": [
    "data_20 = df_20_plot\n",
    "data_20"
   ]
  },
  {
   "cell_type": "code",
   "execution_count": null,
   "metadata": {
    "colab": {
     "base_uri": "https://localhost:8080/",
     "height": 1000
    },
    "executionInfo": {
     "elapsed": 1791,
     "status": "ok",
     "timestamp": 1616283053070,
     "user": {
      "displayName": "Stephanie Patricia Cortés Sánchez",
      "photoUrl": "https://lh3.googleusercontent.com/a-/AOh14GhJ89kO2O4-VcfqHQblbKDJMkojSR04T-1CgPexNg=s64",
      "userId": "10639281671821140378"
     },
     "user_tz": 360
    },
    "id": "7KnL_QWppri4",
    "outputId": "7757030c-38d0-49ad-9994-a37cdf1b066c"
   },
   "outputs": [],
   "source": [
    "df20 = data_20.join(sup)\n",
    "df20"
   ]
  },
  {
   "cell_type": "code",
   "execution_count": null,
   "metadata": {
    "id": "uWyFrZqB9UIm"
   },
   "outputs": [],
   "source": []
  },
  {
   "cell_type": "code",
   "execution_count": null,
   "metadata": {
    "id": "AjuCWztq_3IB"
   },
   "outputs": [],
   "source": [
    "data_15 = data_15.drop(['index','Entidad','Estimador'], axis = 1)"
   ]
  },
  {
   "cell_type": "code",
   "execution_count": null,
   "metadata": {
    "colab": {
     "base_uri": "https://localhost:8080/",
     "height": 1000
    },
    "executionInfo": {
     "elapsed": 1756,
     "status": "ok",
     "timestamp": 1616283053072,
     "user": {
      "displayName": "Stephanie Patricia Cortés Sánchez",
      "photoUrl": "https://lh3.googleusercontent.com/a-/AOh14GhJ89kO2O4-VcfqHQblbKDJMkojSR04T-1CgPexNg=s64",
      "userId": "10639281671821140378"
     },
     "user_tz": 360
    },
    "id": "Seip-9P8A0fq",
    "outputId": "b3935e4c-d310-46b3-c165-3769f2168709"
   },
   "outputs": [],
   "source": [
    "data_15"
   ]
  },
  {
   "cell_type": "code",
   "execution_count": null,
   "metadata": {
    "colab": {
     "base_uri": "https://localhost:8080/",
     "height": 287
    },
    "executionInfo": {
     "elapsed": 1735,
     "status": "ok",
     "timestamp": 1616283053073,
     "user": {
      "displayName": "Stephanie Patricia Cortés Sánchez",
      "photoUrl": "https://lh3.googleusercontent.com/a-/AOh14GhJ89kO2O4-VcfqHQblbKDJMkojSR04T-1CgPexNg=s64",
      "userId": "10639281671821140378"
     },
     "user_tz": 360
    },
    "id": "pnWCeLn-A72r",
    "outputId": "4b6f122b-541e-4bb4-84e3-8956bb17a4b5"
   },
   "outputs": [],
   "source": [
    "data_20.head()"
   ]
  },
  {
   "cell_type": "code",
   "execution_count": null,
   "metadata": {
    "colab": {
     "base_uri": "https://localhost:8080/",
     "height": 198
    },
    "executionInfo": {
     "elapsed": 2236,
     "status": "ok",
     "timestamp": 1616283053592,
     "user": {
      "displayName": "Stephanie Patricia Cortés Sánchez",
      "photoUrl": "https://lh3.googleusercontent.com/a-/AOh14GhJ89kO2O4-VcfqHQblbKDJMkojSR04T-1CgPexNg=s64",
      "userId": "10639281671821140378"
     },
     "user_tz": 360
    },
    "id": "t14swRaKnIWQ",
    "outputId": "6179990a-73c1-491e-c3de-5d08170e245b"
   },
   "outputs": [],
   "source": [
    "data_20 = data_20.drop(['Entidad','Estimador'], axis = 1)\n",
    "data_20.head()"
   ]
  },
  {
   "cell_type": "code",
   "execution_count": null,
   "metadata": {
    "colab": {
     "base_uri": "https://localhost:8080/",
     "height": 198
    },
    "executionInfo": {
     "elapsed": 2240,
     "status": "ok",
     "timestamp": 1616283053620,
     "user": {
      "displayName": "Stephanie Patricia Cortés Sánchez",
      "photoUrl": "https://lh3.googleusercontent.com/a-/AOh14GhJ89kO2O4-VcfqHQblbKDJMkojSR04T-1CgPexNg=s64",
      "userId": "10639281671821140378"
     },
     "user_tz": 360
    },
    "id": "lDk4AO9mnXb8",
    "outputId": "01a1c5d5-ed7c-4a9f-ec63-8a0535c4fa09"
   },
   "outputs": [],
   "source": [
    "data_15.head()"
   ]
  },
  {
   "cell_type": "code",
   "execution_count": null,
   "metadata": {
    "colab": {
     "base_uri": "https://localhost:8080/"
    },
    "executionInfo": {
     "elapsed": 2226,
     "status": "ok",
     "timestamp": 1616283053621,
     "user": {
      "displayName": "Stephanie Patricia Cortés Sánchez",
      "photoUrl": "https://lh3.googleusercontent.com/a-/AOh14GhJ89kO2O4-VcfqHQblbKDJMkojSR04T-1CgPexNg=s64",
      "userId": "10639281671821140378"
     },
     "user_tz": 360
    },
    "id": "e5ivfed2na7I",
    "outputId": "05a8ff35-270b-4d53-e9b1-bc238e427374"
   },
   "outputs": [],
   "source": [
    "hom = pd.concat([data_15['Prop_H'],data_20['Prop_H']])\n",
    "hom"
   ]
  },
  {
   "cell_type": "code",
   "execution_count": null,
   "metadata": {
    "colab": {
     "base_uri": "https://localhost:8080/"
    },
    "executionInfo": {
     "elapsed": 2214,
     "status": "ok",
     "timestamp": 1616283053622,
     "user": {
      "displayName": "Stephanie Patricia Cortés Sánchez",
      "photoUrl": "https://lh3.googleusercontent.com/a-/AOh14GhJ89kO2O4-VcfqHQblbKDJMkojSR04T-1CgPexNg=s64",
      "userId": "10639281671821140378"
     },
     "user_tz": 360
    },
    "id": "Zl0k39Amnazh",
    "outputId": "185b5bbb-037b-4080-dc10-ddaf74e62f9c"
   },
   "outputs": [],
   "source": [
    "muj = pd.concat([data_15['Prop_M'],data_20['Prop_M']])\n",
    "muj"
   ]
  },
  {
   "cell_type": "code",
   "execution_count": null,
   "metadata": {
    "colab": {
     "base_uri": "https://localhost:8080/",
     "height": 1000
    },
    "executionInfo": {
     "elapsed": 2201,
     "status": "ok",
     "timestamp": 1616283053625,
     "user": {
      "displayName": "Stephanie Patricia Cortés Sánchez",
      "photoUrl": "https://lh3.googleusercontent.com/a-/AOh14GhJ89kO2O4-VcfqHQblbKDJMkojSR04T-1CgPexNg=s64",
      "userId": "10639281671821140378"
     },
     "user_tz": 360
    },
    "id": "Hqiy5g_oriBz",
    "outputId": "5f6de0db-2a55-4894-f532-4f11835fa0e8"
   },
   "outputs": [],
   "source": [
    "data_20_igual = data_20[['Prop_HH','Prop_MM']]\n",
    "data_20_igual"
   ]
  },
  {
   "cell_type": "code",
   "execution_count": null,
   "metadata": {
    "colab": {
     "base_uri": "https://localhost:8080/"
    },
    "executionInfo": {
     "elapsed": 2186,
     "status": "ok",
     "timestamp": 1616283053626,
     "user": {
      "displayName": "Stephanie Patricia Cortés Sánchez",
      "photoUrl": "https://lh3.googleusercontent.com/a-/AOh14GhJ89kO2O4-VcfqHQblbKDJMkojSR04T-1CgPexNg=s64",
      "userId": "10639281671821140378"
     },
     "user_tz": 360
    },
    "id": "QtTKgGbAryi8",
    "outputId": "822ca098-807c-48b5-8880-0997d18ea628"
   },
   "outputs": [],
   "source": [
    "data_20_igual[['Prop_HH', 'Prop_MM']] = data_20_igual[['Prop_HH', 'Prop_MM']].apply(pd.to_numeric)  \n",
    "data_15['Prop_igual'] = data_15['Prop_igual'].apply(pd.to_numeric) "
   ]
  },
  {
   "cell_type": "code",
   "execution_count": null,
   "metadata": {
    "id": "56KwfNOSt8oB"
   },
   "outputs": [],
   "source": [
    "data_20_igual = data_20_igual['Prop_HH'] +data_20_igual['Prop_MM']"
   ]
  },
  {
   "cell_type": "code",
   "execution_count": null,
   "metadata": {
    "colab": {
     "base_uri": "https://localhost:8080/"
    },
    "executionInfo": {
     "elapsed": 2195,
     "status": "ok",
     "timestamp": 1616283053653,
     "user": {
      "displayName": "Stephanie Patricia Cortés Sánchez",
      "photoUrl": "https://lh3.googleusercontent.com/a-/AOh14GhJ89kO2O4-VcfqHQblbKDJMkojSR04T-1CgPexNg=s64",
      "userId": "10639281671821140378"
     },
     "user_tz": 360
    },
    "id": "TYoaeq2FoN8R",
    "outputId": "0dc6012e-63b7-4754-b0e6-dc3b4725088d"
   },
   "outputs": [],
   "source": [
    "igual = pd.concat([data_15['Prop_igual'],data_20_igual])\n",
    "igual"
   ]
  },
  {
   "cell_type": "code",
   "execution_count": null,
   "metadata": {
    "colab": {
     "base_uri": "https://localhost:8080/",
     "height": 1000
    },
    "executionInfo": {
     "elapsed": 2177,
     "status": "ok",
     "timestamp": 1616283053654,
     "user": {
      "displayName": "Stephanie Patricia Cortés Sánchez",
      "photoUrl": "https://lh3.googleusercontent.com/a-/AOh14GhJ89kO2O4-VcfqHQblbKDJMkojSR04T-1CgPexNg=s64",
      "userId": "10639281671821140378"
     },
     "user_tz": 360
    },
    "id": "7RP5g3FHoN5c",
    "outputId": "76dc072f-4398-4b04-c735-88e59fd7c5d1"
   },
   "outputs": [],
   "source": [
    "data_15_igual = data_15[['Prop_HM','Prop_MH']]\n",
    "data_15_igual"
   ]
  },
  {
   "cell_type": "code",
   "execution_count": null,
   "metadata": {
    "colab": {
     "base_uri": "https://localhost:8080/"
    },
    "executionInfo": {
     "elapsed": 2165,
     "status": "ok",
     "timestamp": 1616283053655,
     "user": {
      "displayName": "Stephanie Patricia Cortés Sánchez",
      "photoUrl": "https://lh3.googleusercontent.com/a-/AOh14GhJ89kO2O4-VcfqHQblbKDJMkojSR04T-1CgPexNg=s64",
      "userId": "10639281671821140378"
     },
     "user_tz": 360
    },
    "id": "436FkpRnoN2q",
    "outputId": "e3fbb71c-61a7-474c-9a98-1865f756827a"
   },
   "outputs": [],
   "source": [
    "data_15_igual[['Prop_HM', 'Prop_MH']] = data_15_igual[['Prop_HM', 'Prop_MH']].apply(pd.to_numeric)  \n",
    "data_20['Prop_HM'] = data_20['Prop_HM'].apply(pd.to_numeric) "
   ]
  },
  {
   "cell_type": "code",
   "execution_count": null,
   "metadata": {
    "colab": {
     "base_uri": "https://localhost:8080/",
     "height": 1000
    },
    "executionInfo": {
     "elapsed": 2159,
     "status": "ok",
     "timestamp": 1616283053664,
     "user": {
      "displayName": "Stephanie Patricia Cortés Sánchez",
      "photoUrl": "https://lh3.googleusercontent.com/a-/AOh14GhJ89kO2O4-VcfqHQblbKDJMkojSR04T-1CgPexNg=s64",
      "userId": "10639281671821140378"
     },
     "user_tz": 360
    },
    "id": "PW-XPnR_vCyF",
    "outputId": "9787c337-ef07-4338-d290-5d92b31e16d8"
   },
   "outputs": [],
   "source": [
    "data_15_igual = pd.DataFrame(data_15_igual['Prop_HM']+data_15_igual['Prop_MH'])\n",
    "#data_15_igual = data_15_igual['Prop_HM']+data_15_igual['Prop_MH']\n",
    "data_15_igual"
   ]
  },
  {
   "cell_type": "code",
   "execution_count": null,
   "metadata": {
    "colab": {
     "base_uri": "https://localhost:8080/",
     "height": 1000
    },
    "executionInfo": {
     "elapsed": 2143,
     "status": "ok",
     "timestamp": 1616283053667,
     "user": {
      "displayName": "Stephanie Patricia Cortés Sánchez",
      "photoUrl": "https://lh3.googleusercontent.com/a-/AOh14GhJ89kO2O4-VcfqHQblbKDJMkojSR04T-1CgPexNg=s64",
      "userId": "10639281671821140378"
     },
     "user_tz": 360
    },
    "id": "QIh83ZtpwaOt",
    "outputId": "1200f122-8b8f-47c0-b8f2-8927e4b55797"
   },
   "outputs": [],
   "source": [
    "data_20_HM = pd.DataFrame(data_20.Prop_HM)\n",
    "data_20_HM"
   ]
  },
  {
   "cell_type": "code",
   "execution_count": null,
   "metadata": {
    "colab": {
     "base_uri": "https://localhost:8080/",
     "height": 407
    },
    "executionInfo": {
     "elapsed": 2122,
     "status": "ok",
     "timestamp": 1616283053668,
     "user": {
      "displayName": "Stephanie Patricia Cortés Sánchez",
      "photoUrl": "https://lh3.googleusercontent.com/a-/AOh14GhJ89kO2O4-VcfqHQblbKDJMkojSR04T-1CgPexNg=s64",
      "userId": "10639281671821140378"
     },
     "user_tz": 360
    },
    "id": "pUn8sunku5x1",
    "outputId": "0aad5c53-f00e-40f2-d26b-1d4174fddf4d"
   },
   "outputs": [],
   "source": [
    "M_H = pd.concat([data_15_igual, data_20.Prop_HM], axis = 0)\n",
    "M_H.rename(columns = {0:'Prop_MH'}, inplace = True)\n",
    "#data_15_igual = pd.DataFrame(data_15_igual)\n",
    "#data_20_HM = pd.DataFrame(data_20.Prop_HM)\n",
    "M_H"
   ]
  },
  {
   "cell_type": "code",
   "execution_count": null,
   "metadata": {
    "colab": {
     "base_uri": "https://localhost:8080/"
    },
    "executionInfo": {
     "elapsed": 2109,
     "status": "ok",
     "timestamp": 1616283053669,
     "user": {
      "displayName": "Stephanie Patricia Cortés Sánchez",
      "photoUrl": "https://lh3.googleusercontent.com/a-/AOh14GhJ89kO2O4-VcfqHQblbKDJMkojSR04T-1CgPexNg=s64",
      "userId": "10639281671821140378"
     },
     "user_tz": 360
    },
    "id": "JgAEzXtsx-jf",
    "outputId": "1352cdea-8376-408e-b13a-317869aae793"
   },
   "outputs": [],
   "source": [
    "no_identificado = pd.concat([data_15.No_identificado,data_20.No_identificado], axis = 0)\n",
    "no_identificado"
   ]
  },
  {
   "cell_type": "code",
   "execution_count": null,
   "metadata": {
    "colab": {
     "base_uri": "https://localhost:8080/"
    },
    "executionInfo": {
     "elapsed": 2098,
     "status": "ok",
     "timestamp": 1616283053670,
     "user": {
      "displayName": "Stephanie Patricia Cortés Sánchez",
      "photoUrl": "https://lh3.googleusercontent.com/a-/AOh14GhJ89kO2O4-VcfqHQblbKDJMkojSR04T-1CgPexNg=s64",
      "userId": "10639281671821140378"
     },
     "user_tz": 360
    },
    "id": "ULF4dblKzkHl",
    "outputId": "340d9a59-0f1c-4794-b490-86d2250ac192"
   },
   "outputs": [],
   "source": [
    "anio = pd.concat([data_15.anio,data_20.anio], axis = 0)\n",
    "anio"
   ]
  },
  {
   "cell_type": "code",
   "execution_count": null,
   "metadata": {
    "colab": {
     "base_uri": "https://localhost:8080/"
    },
    "executionInfo": {
     "elapsed": 2088,
     "status": "ok",
     "timestamp": 1616283053671,
     "user": {
      "displayName": "Stephanie Patricia Cortés Sánchez",
      "photoUrl": "https://lh3.googleusercontent.com/a-/AOh14GhJ89kO2O4-VcfqHQblbKDJMkojSR04T-1CgPexNg=s64",
      "userId": "10639281671821140378"
     },
     "user_tz": 360
    },
    "id": "dvzH3qTa-IhD",
    "outputId": "690608f6-db5e-4b38-f072-7cb7d8b19c02"
   },
   "outputs": [],
   "source": [
    "vi_15 = data_15.Viviendas_particulares_habitadas_propias.str.replace(\",\", \"\")\n",
    "vi_15"
   ]
  },
  {
   "cell_type": "code",
   "execution_count": null,
   "metadata": {
    "id": "_e1MWJe7-Prc"
   },
   "outputs": [],
   "source": [
    "vi_20 = data_20.Viviendas_particulares_habitadas_propias.str.replace(\" \", \"\")"
   ]
  },
  {
   "cell_type": "code",
   "execution_count": null,
   "metadata": {
    "colab": {
     "base_uri": "https://localhost:8080/",
     "height": 407
    },
    "executionInfo": {
     "elapsed": 2063,
     "status": "ok",
     "timestamp": 1616283053673,
     "user": {
      "displayName": "Stephanie Patricia Cortés Sánchez",
      "photoUrl": "https://lh3.googleusercontent.com/a-/AOh14GhJ89kO2O4-VcfqHQblbKDJMkojSR04T-1CgPexNg=s64",
      "userId": "10639281671821140378"
     },
     "user_tz": 360
    },
    "id": "CowcFIGszx-y",
    "outputId": "29a489b9-9dcd-4bff-df3e-87f30b3e8d86"
   },
   "outputs": [],
   "source": [
    "no_viv = pd.DataFrame(pd.concat([vi_15, vi_20], axis = 0 ))\n",
    "no_viv"
   ]
  },
  {
   "cell_type": "code",
   "execution_count": null,
   "metadata": {
    "id": "upbriMrj0DWa"
   },
   "outputs": [],
   "source": [
    "num = pd.concat([data_15.No, data_20.No], axis = 0)\n",
    "entidad = pd.concat([data_15.Nom_entidad, data_20.Nom_entidad], axis = 0)\n",
    "sup_km = pd.concat([sup.km2,sup.km2], axis=0)"
   ]
  },
  {
   "cell_type": "code",
   "execution_count": null,
   "metadata": {
    "id": "6iQjPihv6CHk"
   },
   "outputs": [],
   "source": [
    "\n"
   ]
  },
  {
   "cell_type": "code",
   "execution_count": null,
   "metadata": {
    "colab": {
     "base_uri": "https://localhost:8080/",
     "height": 407
    },
    "executionInfo": {
     "elapsed": 2417,
     "status": "ok",
     "timestamp": 1616283054049,
     "user": {
      "displayName": "Stephanie Patricia Cortés Sánchez",
      "photoUrl": "https://lh3.googleusercontent.com/a-/AOh14GhJ89kO2O4-VcfqHQblbKDJMkojSR04T-1CgPexNg=s64",
      "userId": "10639281671821140378"
     },
     "user_tz": 360
    },
    "id": "UOFTnW3Ly9di",
    "outputId": "92a6e469-45d3-4bc4-fb64-0969f268388c"
   },
   "outputs": [],
   "source": [
    "data_viv = pd.concat([num, entidad, anio, no_viv, muj, hom, igual, M_H, no_identificado,sup_km], axis = 1)\n",
    "data_viv"
   ]
  },
  {
   "cell_type": "code",
   "execution_count": null,
   "metadata": {
    "colab": {
     "base_uri": "https://localhost:8080/",
     "height": 425
    },
    "executionInfo": {
     "elapsed": 2413,
     "status": "ok",
     "timestamp": 1616283054051,
     "user": {
      "displayName": "Stephanie Patricia Cortés Sánchez",
      "photoUrl": "https://lh3.googleusercontent.com/a-/AOh14GhJ89kO2O4-VcfqHQblbKDJMkojSR04T-1CgPexNg=s64",
      "userId": "10639281671821140378"
     },
     "user_tz": 360
    },
    "id": "GB6-ph7GkMKp",
    "outputId": "da07fbd2-912a-4a00-c609-84405b388e62"
   },
   "outputs": [],
   "source": [
    "data_viv.rename(columns = {0: \"Prop_mismo_genero\"})"
   ]
  },
  {
   "cell_type": "markdown",
   "metadata": {},
   "source": [
    "### Exportando datos para hacer Mapa "
   ]
  },
  {
   "cell_type": "code",
   "execution_count": null,
   "metadata": {
    "id": "p740sbHnBSgv"
   },
   "outputs": [],
   "source": [
    "data_viv.to_csv('/content/drive/MyDrive/PROYECTO FINAL IRONHACK/BASE DE DATOS/vivienda_final.csv')"
   ]
  },
  {
   "cell_type": "code",
   "execution_count": null,
   "metadata": {
    "id": "1xVxWZT4-r7z"
   },
   "outputs": [],
   "source": []
  }
 ],
 "metadata": {
  "colab": {
   "authorship_tag": "ABX9TyPUpHspx/QYmuiq7n4/J9Ao",
   "name": "0. INEGI_15-20.ipynb",
   "provenance": []
  },
  "kernelspec": {
   "display_name": "Python 3",
   "language": "python",
   "name": "python3"
  },
  "language_info": {
   "codemirror_mode": {
    "name": "ipython",
    "version": 3
   },
   "file_extension": ".py",
   "mimetype": "text/x-python",
   "name": "python",
   "nbconvert_exporter": "python",
   "pygments_lexer": "ipython3",
   "version": "3.8.3"
  }
 },
 "nbformat": 4,
 "nbformat_minor": 1
}
